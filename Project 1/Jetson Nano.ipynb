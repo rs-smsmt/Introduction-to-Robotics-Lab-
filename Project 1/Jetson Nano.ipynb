{
 "cells": [
  {
   "cell_type": "markdown",
   "id": "c993a310-d909-46fe-83d1-8c0d5dfbe97a",
   "metadata": {},
   "source": [
    "### Binary Counter\n",
    "<hr>\n",
    "Hardware Requirements:<br>\n",
    "<ul>\n",
    "    <li>1x Jetson Nano Developer Kit &nbsp&nbsp&nbsp&nbsp&nbsp&nbsp&nbsp&nbsp&nbsp&nbsp <a style='text-decoration:underline;' href=\"https://www.amazon.com/NVIDIA-Jetson-Nano-Developer-945-13450-0000-100/dp/B084DSDDLT/ref=asc_df_B084DSDDLT/?tag=hyprod-20&linkCode=df0&hvadid=416652333997&hvpos=&hvnetw=g&hvrand=5305739034639160798&hvpone=&hvptwo=&hvqmt=&hvdev=c&hvdvcmdl=&hvlocint=&hvlocphy=9020641&hvtargid=pla-893453703291&psc=1&tag=&ref=&adgrpid=100759324064&hvpone=&hvptwo=&hvadid=416652333997&hvpos=&hvnetw=g&hvrand=5305739034639160798&hvqmt=&hvdev=c&hvdvcmdl=&hvlocint=&hvlocphy=9020641&hvtargid=pla-893453703291\">Amazon</a></li>\n",
    "    <li>1x DC Adapter (5V 2.5A)</li>\n",
    "    <li>1x Monitor, 1x Mouse, and 1x Keyboard</li>\n",
    "    <li>1x HDMI Cable</li>\n",
    "    <li>1x SD Card with an already booted and configured 'Jetson Nano Developer Kit SD Card' Image &nbsp&nbsp&nbsp&nbsp&nbsp&nbsp&nbsp&nbsp&nbsp&nbsp <a style='text-decoration:underline;' href='https://developer.nvidia.com/embedded/learn/getting-started-jetson'>Getting Started on Jason Nano</a></li>\n",
    "    <Li>4x LEDs</Li>\n",
    "    <li>4x Resistors</li>\n",
    "    <li>4x Transistors</li>\n",
    "    <li>1x Breadboard</li>\n",
    "    <li>Wires (pref. Red, Blue, one onother color)</li>\n",
    "</ul>\n",
    "<hr>\n",
    "Required Liberaries:<br>\n",
    "<ol>\n",
    "    <li>GPIO&nbsp&nbsp#To work with Jetson Nano's pins</li>\n",
    "    <li>time&nbsp&nbsp&nbsp#To create delays</li>\n",
    "</ol>\n",
    "<hr>\n",
    "Other Prerequisites:<br>\n",
    "<ol>\n",
    "    <li>Text Editor (pref. Visual Studio Code)</li>\n",
    "    <li>Some Python programming knowledge</li>\n",
    "    <ol>\n",
    "        <li>How to import and work with modules</li>\n",
    "        <li>Variables and Data Types</li>\n",
    "        <li>If Statements</li>\n",
    "        <li>While loop</li>\n",
    "        <li>For loop</li>\n",
    "        <li>Functions</li>\n",
    "        <ul>\n",
    "            <li>Creaing Functions</li>\n",
    "            <li>Using built-in functions Ex. bin()</li>\n",
    "        </ul>\n",
    "        <li>List Comprehension</li>\n",
    "        <li>String Formatting</li>\n",
    "        <li>Type Conversoin</li>\n",
    "    </ol>\n",
    "</ol>\n",
    "<hr>"
   ]
  },
  {
   "cell_type": "markdown",
   "id": "5663ac7b-9845-4a1f-82dd-a5398e82c9b2",
   "metadata": {},
   "source": [
    "### Step 1:\n",
    "Getting The board ready:\n",
    "<img src=\"img/circuit.png\">\n",
    "<img src=\"img/1.jpeg\">\n",
    "\n",
    "Closeup Images:\n",
    "<div style=\"width:100%;\">\n",
    "    <img src=\"img/2.jpeg\" width=\"49%\">\n",
    "    <img src=\"img/3.jpeg\" width=\"49%\">\n",
    "</div>\n",
    "<hr>"
   ]
  },
  {
   "cell_type": "markdown",
   "id": "96224b7b-bae7-49ee-92ec-70479af2e2fd",
   "metadata": {},
   "source": [
    "### Step 2:\n",
    "Connecting the board to Jetson Nano\n",
    "\n",
    "<img src=\"img/4.jpeg\">\n",
    "<hr>"
   ]
  },
  {
   "cell_type": "markdown",
   "id": "64256e02-2cf3-49b8-a9ec-2f10d3f4f286",
   "metadata": {},
   "source": [
    "### Step 3:\n",
    "Writting the Code:"
   ]
  },
  {
   "cell_type": "markdown",
   "id": "5e747f96-6c6c-403e-abd3-5ae10be644ac",
   "metadata": {},
   "source": [
    "### Importing Dependencies"
   ]
  },
  {
   "cell_type": "code",
   "execution_count": null,
   "id": "a28ef134-8a23-4de6-86db-6893e1a6cd0c",
   "metadata": {},
   "outputs": [],
   "source": [
    "import RPi.GPIO as GPIO\n",
    "import time"
   ]
  },
  {
   "cell_type": "markdown",
   "id": "8d419043-6901-4813-b699-eb9d0e10bfd0",
   "metadata": {},
   "source": [
    "### Set the GPIO mode to BCM"
   ]
  },
  {
   "cell_type": "code",
   "execution_count": null,
   "id": "9e717e0b-8bbb-4c4b-ae01-106abe364735",
   "metadata": {},
   "outputs": [],
   "source": [
    "GPIO.setmode(GPIO.BCM)"
   ]
  },
  {
   "cell_type": "markdown",
   "id": "0bf1de6c-d370-4137-92b6-55079c964075",
   "metadata": {},
   "source": [
    "### Define GPIO pins for each LED"
   ]
  },
  {
   "cell_type": "code",
   "execution_count": null,
   "id": "c328c9cf-6233-47b0-8f67-c1b2723f358c",
   "metadata": {},
   "outputs": [],
   "source": [
    "LED_PINS = [18, 23, 24, 25]\n",
    "LED_PINS_DICT = {0:18,1:23,2:24,3:25}"
   ]
  },
  {
   "cell_type": "markdown",
   "id": "fa310184-eea7-4226-b725-042a42d40077",
   "metadata": {},
   "source": [
    "### Set all LED pins as output"
   ]
  },
  {
   "cell_type": "code",
   "execution_count": null,
   "id": "7e32a45e-16ba-4c37-b27d-0b8489ee409b",
   "metadata": {},
   "outputs": [],
   "source": [
    "for pin in LED_PINS:\n",
    "    GPIO.setup(pin, GPIO.OUT)"
   ]
  },
  {
   "cell_type": "markdown",
   "id": "f86427b3-edf6-42bb-b951-337a5b8c1e34",
   "metadata": {},
   "source": [
    "### pin_state function gets the pin's value and return their state in a list [HIGH/LOW]"
   ]
  },
  {
   "cell_type": "code",
   "execution_count": null,
   "id": "955cf9ab-bdb0-40f9-980d-f2e9d630bcc1",
   "metadata": {},
   "outputs": [],
   "source": [
    "def pin_state(p_arr):\n",
    "    return ['GPIO.HIGH' if int(i) else 'GPIO.LOW' for i in p_arr]"
   ]
  },
  {
   "cell_type": "markdown",
   "id": "84d5eab8-c84a-47dc-9f37-836791180c59",
   "metadata": {},
   "source": [
    "### Main"
   ]
  },
  {
   "cell_type": "code",
   "execution_count": null,
   "id": "ff5df36f-d7b0-4df1-b051-7a1aecec88f9",
   "metadata": {},
   "outputs": [],
   "source": [
    "way = True #This is a flag and shows weather we are counting UP or counting Down\n",
    "i = 0      #The current number             \n",
    "pins_array = []  #the binary format of the current number will get stored here. each number takes one cell. Ex: 11 -> [1,0,1,1]\n",
    "while True: #Creates an infinite loop so we can count up and down continuously\n",
    "    pins_array = [j for j in ('0'*(4-len(bin(i)[2:])))+bin(i)[2:]]  #Converting and storying the binary form of the current number in pins_array\n",
    "\n",
    "    #Going throught the pins and turning them on or off depending on their state\n",
    "    for n,state in enumerate(pin_state(pins_array)):\n",
    "        exec(f'GPIO.output({LED_PINS_DICT[n]}, {state})')\n",
    "    #Uncomment the next two lines to see the pin's state in the console\n",
    "    #     print(LED_PINS_DICT[n], state, end = \" | \")\n",
    "    # print()\n",
    "\n",
    "    #ioncreases the current number if we are counting up or decreases one from it if we are counting down\n",
    "    if way:  \n",
    "        i+=1\n",
    "    else:\n",
    "        i-=1\n",
    "        \n",
    "    #Chekcing whether we have reached the end of counting up (15) or down (0) using the flag 'way' we defined earlier\n",
    "    if i == 15 and way==True:\n",
    "        way = False\n",
    "        i = 15\n",
    "    elif i == 0 and way == False:\n",
    "        way = True\n",
    "        i = 0\n",
    "    time.sleep(1)"
   ]
  },
  {
   "cell_type": "markdown",
   "id": "3d2ab144-4717-4812-b5ed-7894294b8950",
   "metadata": {},
   "source": [
    "### Step 4:\n",
    "Running the code:\n",
    "You should see the exact results on your board. If NOT, check the board and connections. <a style=\"text-decoration:underline;\" href=\"https://www.youtube.com/watch?v=DnU9cB7Kbes\">Click To Watch The result Video</a>"
   ]
  }
 ],
 "metadata": {
  "kernelspec": {
   "display_name": "Python 3 (ipykernel)",
   "language": "python",
   "name": "python3"
  },
  "language_info": {
   "codemirror_mode": {
    "name": "ipython",
    "version": 3
   },
   "file_extension": ".py",
   "mimetype": "text/x-python",
   "name": "python",
   "nbconvert_exporter": "python",
   "pygments_lexer": "ipython3",
   "version": "3.10.11"
  }
 },
 "nbformat": 4,
 "nbformat_minor": 5
}
