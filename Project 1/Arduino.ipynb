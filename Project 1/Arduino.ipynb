{
 "cells": [
  {
   "cell_type": "markdown",
   "id": "0bb3385c-e34e-4ce7-a706-03f8d1cfc5e0",
   "metadata": {},
   "source": [
    "### Binary Counter"
   ]
  },
  {
   "cell_type": "code",
   "execution_count": null,
   "id": "a74d1ef7-59a7-445f-b924-aafd5e6b4b21",
   "metadata": {},
   "outputs": [],
   "source": []
  }
 ],
 "metadata": {
  "kernelspec": {
   "display_name": "Python 3 (ipykernel)",
   "language": "python",
   "name": "python3"
  },
  "language_info": {
   "codemirror_mode": {
    "name": "ipython",
    "version": 3
   },
   "file_extension": ".py",
   "mimetype": "text/x-python",
   "name": "python",
   "nbconvert_exporter": "python",
   "pygments_lexer": "ipython3",
   "version": "3.10.11"
  }
 },
 "nbformat": 4,
 "nbformat_minor": 5
}
