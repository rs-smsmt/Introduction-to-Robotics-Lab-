{
 "cells": [
  {
   "cell_type": "markdown",
   "id": "c993a310-d909-46fe-83d1-8c0d5dfbe97a",
   "metadata": {},
   "source": [
    "## Project Manual: 4-Bit Counter with LEDs using <Span style='color:orange;'>Jetson Nano</span>\n",
    "<hr>"
   ]
  },
  {
   "cell_type": "markdown",
   "id": "09021aca-de64-43a9-a529-88bb41b7991c",
   "metadata": {},
   "source": [
    "### Table of Contents:\n",
    "<ol>\n",
    "    <li><a href=\"#intro\">Introduction</a></li>\n",
    "    <li><a href=\"#obj\">Project Objectives</a></li>\n",
    "    <li><a href=\"#hr\">Hardware Components</a></li>\n",
    "    <li><a href=\"#rl\">Required Libraries</a></li>\n",
    "    <li><a href=\"#op\">Other Prerequisites</a></li>\n",
    "    <li><a href=\"#s1\">Step 1: Circuit Diagram [BreadBoard]</a></li>\n",
    "    <li><a href=\"#s2\">Step 2: Cricuit Diagram [<Span style='color:orange'>Jetson Nano</Span>]</a></li>\n",
    "    <li><a href=\"#s3\">Step 3: Code Implementation</a></li>\n",
    "        <ol style=\"list-style-type:lower-alpha\">\n",
    "            <li>Importing Dependencies</li>\n",
    "            <li>Set the GPIO mode to BCM</li>\n",
    "            <li>Define GPIO pins for each LED</li>\n",
    "            <li>Set all LED pins as output</li>\n",
    "            <li>pin_state function gets the pin's value and return their state in a list [HIGH/LOW]</li>\n",
    "            <li>Main Function</li>\n",
    "        </ol>\n",
    "    <li><a href=\"exp1\">Interfacing and Explanation of Transistors and Resistors</a></li>\n",
    "    <li><a href=\"#s4\">Step 4: Testing and Verification</a></li>\n",
    "    <li><a href=\"#conclusion\">Conclusion</a></li>\n",
    "    <li><a href=\"#ref\">References</a></li>\n",
    "</ol>\n",
    "<hr>"
   ]
  },
  {
   "cell_type": "markdown",
   "id": "5779bdf1-3c13-4787-8353-9e98807d3e1b",
   "metadata": {},
   "source": [
    "### Introduction\n",
    "<p style=\"text-align: justify;\">Welcome to the exciting world of embedded computing and digital electronics with the Jetson Nano! In this project, you will embark on a journey into the realm of hardware and software integration as you create a 4-Bit Counter with LEDs using the powerful NVIDIA Jetson Nano.</p>\n",
    "\n",
    "<p style=\"text-align: justify;\">The Jetson Nano, a versatile single-board computer, is your gateway to exploring the potential of artificial intelligence, computer vision, and robotics. As a beginner's foray into the Jetson Nano environment, this project will not only provide you with hands-on experience but also lay the foundation for your future endeavors in the world of embedded systems.</p>\n",
    "\n",
    "<p style=\"text-align: justify;\">In this project, you will learn the fundamental concepts of digital circuits, binary counting, and hardware interfacing, all while harnessing the capabilities of the Jetson Nano. By combining hardware components such as LEDs and resistors with software programming, you will create a 4-Bit Counter that visually represents binary numbers through illuminated LEDs. This will not only reinforce your understanding of binary representation but also demonstrate how software instructions can influence hardware behavior.</p>\n",
    "<hr>"
   ]
  },
  {
   "cell_type": "markdown",
   "id": "17a297e0-0762-4f5b-881c-ec6d3108f97a",
   "metadata": {},
   "source": [
    "### Project Objectives\n",
    "<ul>\n",
    "    <li>Gain familiarity with the Jetson Nano platform and its capabilities.</li>\n",
    "    <li>Understand the basics of digital electronics, binary counting, and LEDs.</li>\n",
    "    <li>Learn how to interface hardware components with software using GPIO pins.</li>\n",
    "    <li>Develop coding skills in Python to control the behavior of the 4-Bit Counter.</li>\n",
    "    <li>Experience the synergy between software and hardware in embedded systems.</li>\n",
    "</ul>\n",
    "<p style=\"text-align: justify;\">As you embark on this project, keep in mind that it's not just about building a 4-Bit Counter with LEDs. It's about building a foundation for your exploration of the exciting world of embedded computing, where your imagination is the limit. So, gather your curiosity, creativity, and determination as you delve into the fascinating fusion of hardware and software with the Jetson Nano 4-Bit Counter project. Let's begin the journey together!</p>"
   ]
  },
  {
   "cell_type": "markdown",
   "id": "de97cf92-d88d-45e2-bdc7-0eabc6e226cb",
   "metadata": {},
   "source": [
    "### <span id=\"hr\">Hardware Components:</span><br>\n",
    "<ul>\n",
    "    <li>1x <span style='color:orange'>Jetson Nano</span> Developer Kit &nbsp&nbsp&nbsp&nbsp&nbsp&nbsp&nbsp&nbsp&nbsp&nbsp <a style='text-decoration:underline;' href=\"https://www.amazon.com/NVIDIA-Jetson-Nano-Developer-945-13450-0000-100/dp/B084DSDDLT/ref=asc_df_B084DSDDLT/?tag=hyprod-20&linkCode=df0&hvadid=416652333997&hvpos=&hvnetw=g&hvrand=5305739034639160798&hvpone=&hvptwo=&hvqmt=&hvdev=c&hvdvcmdl=&hvlocint=&hvlocphy=9020641&hvtargid=pla-893453703291&psc=1&tag=&ref=&adgrpid=100759324064&hvpone=&hvptwo=&hvadid=416652333997&hvpos=&hvnetw=g&hvrand=5305739034639160798&hvqmt=&hvdev=c&hvdvcmdl=&hvlocint=&hvlocphy=9020641&hvtargid=pla-893453703291\">Amazon</a></li>\n",
    "    <li>1x DC Adapter (5V 2.5A)</li>\n",
    "    <li>1x Monitor, 1x Mouse, and 1x Keyboard</li>\n",
    "    <li>1x HDMI Cable</li>\n",
    "    <li>1x SD Card with an already booted and configured '<span style='color:orange;'>Jetson Nano</span> Developer Kit SD Card' Image                         <a style='text-decoration:underline;' href='https://developer.nvidia.com/embedded/learn/getting-started-jetson'>Getting Started on Jason Nano</a></li>\n",
    "    <Li>4x LEDs</Li>\n",
    "    <li>4x Resistors</li>\n",
    "    <li>4x Transistors</li>\n",
    "    <li>1x Breadboard</li>\n",
    "    <li>Wires (pref. Red, Blue, one onother color)</li>\n",
    "</ul>\n",
    "<hr>"
   ]
  },
  {
   "cell_type": "markdown",
   "id": "93578d96-e4c2-4510-b7f4-f6232f1adaf1",
   "metadata": {},
   "source": [
    "### <span id=\"rl\">Required Liberaries:</span><br>\n",
    "<ol>\n",
    "    <li>GPIO               #To work with <span style='color:orange;'>Jetson Nano</span>'s pins</li>\n",
    "    <li>time               #To create delays</li>\n",
    "</ol>\n",
    "<hr>"
   ]
  },
  {
   "cell_type": "markdown",
   "id": "feebc1d9-d6cf-486c-a220-c83253604a38",
   "metadata": {},
   "source": [
    "### <span id=\"op\">Other Prerequisites:</span><br>\n",
    "<ol>\n",
    "    <li>Text Editor (pref. Visual Studio Code)</li>\n",
    "    <li>Some Python programming knowledge</li>\n",
    "    <ol>\n",
    "        <li>How to import and work with modules</li>\n",
    "        <li>Variables and Data Types</li>\n",
    "        <li>If Statements</li>\n",
    "        <li>While loop</li>\n",
    "        <li>For loop</li>\n",
    "        <li>Functions</li>\n",
    "        <ul>\n",
    "            <li>Creaing Functions</li>\n",
    "            <li>Using built-in functions Ex. bin()</li>\n",
    "        </ul>\n",
    "        <li>List Comprehension</li>\n",
    "        <li>String Formatting</li>\n",
    "        <li>Type Conversoin</li>\n",
    "    </ol>\n",
    "</ol>\n",
    "<hr>"
   ]
  },
  {
   "cell_type": "markdown",
   "id": "5663ac7b-9845-4a1f-82dd-a5398e82c9b2",
   "metadata": {},
   "source": [
    "### <span id=\"s1\" style='color:Purple;'>Step 1:</span>\n",
    "Circuit Diagram [BreadBoard]\n",
    "<img src=\"img/circuit.png\">\n",
    "<img src=\"img/1.jpeg\">\n",
    "\n",
    "Closeup Images:\n",
    "<div style=\"width:100%;\">\n",
    "    <img src=\"img/2.jpeg\" width=\"49%\">\n",
    "    <img src=\"img/3.jpeg\" width=\"49%\">\n",
    "</div>\n",
    "<hr>"
   ]
  },
  {
   "cell_type": "markdown",
   "id": "96224b7b-bae7-49ee-92ec-70479af2e2fd",
   "metadata": {},
   "source": [
    "### <span id=\"s2\">Step 2:</span>\n",
    "Circuit Diagram [<span style='color:orange;'>Jetson Nano</span>]\n",
    "\n",
    "<img src=\"img/4.jpeg\">\n",
    "<hr>"
   ]
  },
  {
   "cell_type": "markdown",
   "id": "64256e02-2cf3-49b8-a9ec-2f10d3f4f286",
   "metadata": {},
   "source": [
    "### <span id=\"s3\">Step 3:</span>\n",
    "Code Implementation:"
   ]
  },
  {
   "cell_type": "markdown",
   "id": "5e747f96-6c6c-403e-abd3-5ae10be644ac",
   "metadata": {},
   "source": [
    "### Importing Dependencies"
   ]
  },
  {
   "cell_type": "code",
   "execution_count": null,
   "id": "a28ef134-8a23-4de6-86db-6893e1a6cd0c",
   "metadata": {},
   "outputs": [],
   "source": [
    "import RPi.GPIO as GPIO\n",
    "import time"
   ]
  },
  {
   "cell_type": "markdown",
   "id": "8d419043-6901-4813-b699-eb9d0e10bfd0",
   "metadata": {},
   "source": [
    "### Set the GPIO mode to BCM"
   ]
  },
  {
   "cell_type": "code",
   "execution_count": null,
   "id": "9e717e0b-8bbb-4c4b-ae01-106abe364735",
   "metadata": {},
   "outputs": [],
   "source": [
    "GPIO.setmode(GPIO.BCM)"
   ]
  },
  {
   "cell_type": "markdown",
   "id": "0bf1de6c-d370-4137-92b6-55079c964075",
   "metadata": {},
   "source": [
    "### Define GPIO pins for each LED"
   ]
  },
  {
   "cell_type": "code",
   "execution_count": null,
   "id": "c328c9cf-6233-47b0-8f67-c1b2723f358c",
   "metadata": {},
   "outputs": [],
   "source": [
    "LED_PINS = [18, 23, 24, 25]\n",
    "LED_PINS_DICT = {0:18,1:23,2:24,3:25}"
   ]
  },
  {
   "cell_type": "markdown",
   "id": "fa310184-eea7-4226-b725-042a42d40077",
   "metadata": {},
   "source": [
    "### Set all LED pins as output"
   ]
  },
  {
   "cell_type": "code",
   "execution_count": null,
   "id": "7e32a45e-16ba-4c37-b27d-0b8489ee409b",
   "metadata": {},
   "outputs": [],
   "source": [
    "for pin in LED_PINS:\n",
    "    GPIO.setup(pin, GPIO.OUT)"
   ]
  },
  {
   "cell_type": "markdown",
   "id": "f86427b3-edf6-42bb-b951-337a5b8c1e34",
   "metadata": {},
   "source": [
    "### pin_state function gets the pin's value and return their state in a list [HIGH/LOW]"
   ]
  },
  {
   "cell_type": "code",
   "execution_count": null,
   "id": "955cf9ab-bdb0-40f9-980d-f2e9d630bcc1",
   "metadata": {},
   "outputs": [],
   "source": [
    "def pin_state(p_arr):\n",
    "    return ['GPIO.HIGH' if int(i) else 'GPIO.LOW' for i in p_arr]"
   ]
  },
  {
   "cell_type": "markdown",
   "id": "84d5eab8-c84a-47dc-9f37-836791180c59",
   "metadata": {},
   "source": [
    "### Main"
   ]
  },
  {
   "cell_type": "code",
   "execution_count": null,
   "id": "ff5df36f-d7b0-4df1-b051-7a1aecec88f9",
   "metadata": {},
   "outputs": [],
   "source": [
    "way = True #This is a flag and shows weather we are counting UP or counting Down\n",
    "i = 0      #The current number             \n",
    "pins_array = []  #the binary format of the current number will get stored here. each number takes one cell. Ex: 11 -> [1,0,1,1]\n",
    "while True: #Creates an infinite loop so we can count up and down continuously\n",
    "    pins_array = [j for j in ('0'*(4-len(bin(i)[2:])))+bin(i)[2:]]  #Converting and storying the binary form of the current number in pins_array\n",
    "\n",
    "    #Going throught the pins and turning them on or off depending on their state\n",
    "    for n,state in enumerate(pin_state(pins_array)):\n",
    "        exec(f'GPIO.output({LED_PINS_DICT[n]}, {state})')\n",
    "    #Uncomment the next two lines to see the pin's state in the console\n",
    "    #     print(LED_PINS_DICT[n], state, end = \" | \")\n",
    "    # print()\n",
    "\n",
    "    #ioncreases the current number if we are counting up or decreases one from it if we are counting down\n",
    "    if way:  \n",
    "        i+=1\n",
    "    else:\n",
    "        i-=1\n",
    "        \n",
    "    #Chekcing whether we have reached the end of counting up (15) or down (0) using the flag 'way' we defined earlier\n",
    "    if i == 15 and way==True:\n",
    "        way = False\n",
    "        i = 15\n",
    "    elif i == 0 and way == False:\n",
    "        way = True\n",
    "        i = 0\n",
    "    time.sleep(1)"
   ]
  },
  {
   "cell_type": "markdown",
   "id": "823dcad5-bb32-43f0-ab91-ffde11f7f120",
   "metadata": {},
   "source": [
    "### Interfacing and Explanation of Transistors and Resistors\n",
    "<p style=\"text-align: justify;\">The use of resistors and transistors in a 4-bit binary counter circuit, even when utilizing a powerful platform like the Jetson Nano, serves several important purposes related to proper circuit operation, protection, and interfacing. While the Jetson Nano itself is a robust single-board computer, it may not directly interface with external hardware components without the appropriate interfacing circuitry. Here's why resistors and transistors might be needed:</p>\n",
    "<ol>\n",
    "    <li>Current Limitation and Protection:</li>\n",
    "    <p style=\"text-align: justify;\">LEDs are current-driven devices, and their brightness is proportional to the current passing through them. Without current-limiting resistors, excessive current can flow through the LEDs, potentially damaging them or causing them to burn out. The resistors are essential to restrict the current to a safe level and protect the LEDs from overcurrent.\n",
    "    <li>Voltage Level Shifting:</li>\n",
    "    <p style=\"text-align: justify;\">The Jetson Nano GPIO pins operate at a specific voltage level, often 3.3V. However, external components like LEDs may require a different voltage level to operate optimally. Transistors can be used to shift the voltage level from the Jetson Nano's GPIO output to match the requirements of the LEDs, ensuring proper illumination.</p>\n",
    "    <li>Drive Capability:</li>\n",
    "    <p style=\"text-align: justify;\">GPIO pins on the Jetson Nano may have limitations in terms of the amount of current they can supply. Transistors can act as amplifiers, allowing a small current from the GPIO pins to control a larger current that drives the LEDs. This ensures that the LEDs receive enough current for bright illumination.</p>\n",
    "    <li>Isolation and Protection of GPIO Pins:</li>\n",
    "    <p style=\"text-align: justify;\">Transistors can provide electrical isolation between the Jetson Nano and the external circuit. This can protect the GPIO pins from potential voltage spikes, noise, or other disturbances that might occur in the circuit. It helps safeguard the Jetson Nano from potential damage.</p>\n",
    "    <li>Efficient Control:</li>\n",
    "    <p style=\"text-align: justify;\">Using transistors allows for efficient control of multiple LEDs. With a transistor-based setup, you can control multiple LEDs with a single GPIO pin, enabling you to implement the 4-bit binary counter efficiently.</p>\n",
    "<p style=\"text-align: justify;\">In summary, while the Jetson Nano is a powerful computing platform, it still requires appropriate interfacing components like resistors and transistors to ensure that external hardware components like LEDs operate safely and efficiently. These components serve to protect the Jetson Nano, provide proper voltage level shifting, and enable efficient control of the LEDs in the 4-bit binary counter circuit.</p>\n",
    "</ol>"
   ]
  },
  {
   "cell_type": "markdown",
   "id": "3d2ab144-4717-4812-b5ed-7894294b8950",
   "metadata": {},
   "source": [
    "### <span id=\"s4\">Step 4: Testing and Verification</span>\n",
    "Video Documentation:\n",
    "As a visual testament to the successful implementation of the project, a comprehensive video demonstration was recorded and uploaded to YouTube. This video provides a step-by-step overview of the 4-Bit Counter's behavior, showcasing its accurate binary counting and LED illumination. You can view the video at the following link: <a style=\"text-decoration:underline;\" href=\"https://www.youtube.com/watch?v=DnU9cB7Kbes\">YouTube Video Link.</a>"
   ]
  },
  {
   "cell_type": "markdown",
   "id": "2ed38380-e4c0-4354-be86-4793ab2404a8",
   "metadata": {},
   "source": [
    "### Conclusion\n",
    "<p style=\"text-align: justify;\">Congratulations on completing the Jetson Nano 4-Bit Counter with LEDs project! You've embarked on a journey that introduced you to the captivating realm of embedded computing, digital electronics, and hardware-software integration. Through this project, you've gained valuable insights into the world of binary counting, GPIO interfacing, and programming, setting the stage for your continued exploration of advanced technologies and projects.</p>\n",
    "\n",
    "<p style=\"text-align: justify;\">By successfully creating a 4-Bit Counter with LEDs, you've not only illuminated numerical sequences but also illuminated your path towards a deeper understanding of how modern computing systems operate. This project emphasized the vital synergy between hardware and software, showcasing their collaborative role in bringing concepts to life and solving real-world challenges.</p>\n",
    "\n",
    "<p style=\"text-align: justify;\">As you reflect on your achievements, remember that this project was just the beginning of your journey with the Jetson Nano. The skills you've acquired, from coding in Python to understanding basic digital circuits, will serve as a solid foundation for more complex projects and innovations. The knowledge you've gained about the Jetson Nano's capabilities will open doors to exploring artificial intelligence, computer vision, robotics, and other exciting fields.</p>\n",
    "\n",
    "<p style=\"text-align: justify;\">Take pride in the hands-on experience you've gained and the confidence you've developed in working with a cutting-edge platform like the Jetson Nano. Whether you choose to pursue a career in technology, academia, or any other field, the skills and insights gained from this project will undoubtedly be invaluable.</p>\n",
    "\n",
    "<p style=\"text-align: justify;\">Remember, innovation thrives on curiosity and persistence. As you continue your educational journey, keep pushing boundaries, asking questions, and seeking solutions. The world of technology is constantly evolving, and you have the power to be at the forefront of these transformations.</p>\n",
    "\n",
    "<p style=\"text-align: justify;\">Once again, congratulations on your achievement, and best of luck in all your future endeavors in the captivating realm of embedded computing and beyond!</p>"
   ]
  }
 ],
 "metadata": {
  "kernelspec": {
   "display_name": "Python 3 (ipykernel)",
   "language": "python",
   "name": "python3"
  },
  "language_info": {
   "codemirror_mode": {
    "name": "ipython",
    "version": 3
   },
   "file_extension": ".py",
   "mimetype": "text/x-python",
   "name": "python",
   "nbconvert_exporter": "python",
   "pygments_lexer": "ipython3",
   "version": "3.10.11"
  }
 },
 "nbformat": 4,
 "nbformat_minor": 5
}
