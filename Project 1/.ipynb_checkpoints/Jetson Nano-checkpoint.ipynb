{
 "cells": [
  {
   "cell_type": "markdown",
   "id": "c993a310-d909-46fe-83d1-8c0d5dfbe97a",
   "metadata": {},
   "source": [
    "### Binary Counter"
   ]
  },
  {
   "cell_type": "code",
   "execution_count": null,
   "id": "86b9ec33-d3b8-4ec8-9122-c9e4d887d017",
   "metadata": {},
   "outputs": [],
   "source": []
  }
 ],
 "metadata": {
  "kernelspec": {
   "display_name": "Python 3 (ipykernel)",
   "language": "python",
   "name": "python3"
  },
  "language_info": {
   "codemirror_mode": {
    "name": "ipython",
    "version": 3
   },
   "file_extension": ".py",
   "mimetype": "text/x-python",
   "name": "python",
   "nbconvert_exporter": "python",
   "pygments_lexer": "ipython3",
   "version": "3.10.11"
  }
 },
 "nbformat": 4,
 "nbformat_minor": 5
}
